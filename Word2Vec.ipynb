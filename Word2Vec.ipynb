{
  "cells": [
    {
      "cell_type": "markdown",
      "metadata": {
        "id": "6udANOmMHxTe"
      },
      "source": [
        "# Importing the required tools"
      ]
    },
    {
      "cell_type": "code",
      "execution_count": null,
      "metadata": {
        "id": "7v0l7FXeHxTi"
      },
      "outputs": [],
      "source": [
        "import gensim\n",
        "import os"
      ]
    },
    {
      "cell_type": "code",
      "execution_count": null,
      "metadata": {
        "id": "xqoPa_b3HxTj"
      },
      "outputs": [],
      "source": [
        "from gensim.models import Word2Vec\n",
        "from gensim.models import FastText"
      ]
    },
    {
      "cell_type": "markdown",
      "metadata": {
        "id": "xqK2RVUiHxTk"
      },
      "source": [
        "# Loading data ( Corpus )"
      ]
    },
    {
      "cell_type": "code",
      "execution_count": null,
      "metadata": {
        "id": "FW8mNBrRHxTk"
      },
      "outputs": [],
      "source": [
        "tp1 = \"TP_ISD2020\"\n",
        "corpus = [\"tbbts03e01.txt\" , \"tbbts03e02.txt\", \"\" ]\n",
        "corpus1 = \"QUAERO_FrenchMed/QUAERO_FrenchMed_traindev.ospl\"\n",
        "corpus2 = \"QUAERO_FrenchPress/QUAERO_FrenchPress_traindev.ospl\""
      ]
    },
    {
      "cell_type": "code",
      "execution_count": null,
      "metadata": {
        "id": "6yzqjpJ4HxTl"
      },
      "outputs": [],
      "source": [
        "data = dict()\n",
        "data1 = dict()\n",
        "data2 = dict ()"
      ]
    },
    {
      "cell_type": "code",
      "execution_count": null,
      "metadata": {
        "id": "I3PZZWLgHxTl",
        "outputId": "1192805c-a0f8-4fcb-ed9f-d5c1329859cd"
      },
      "outputs": [
        {
          "name": "stdout",
          "output_type": "stream",
          "text": [
            "processing corpus :  TP_ISD2020/QUAERO_FrenchMed/QUAERO_FrenchMed_traindev.ospl\n"
          ]
        }
      ],
      "source": [
        "path1 = os.path.join( tp1 , corpus1)\n",
        "data1_ = []\n",
        "print (\"processing corpus : \" ,path1 )\n",
        "with open (path1 , \"r+\" , encoding = 'utf-8') as f :\n",
        "    for line in f :\n",
        "        stripped_line = line.strip()\n",
        "        line_list = stripped_line.split()\n",
        "        data1_.append(line_list)\n",
        "data1= data1_"
      ]
    },
    {
      "cell_type": "code",
      "execution_count": null,
      "metadata": {
        "id": "sar6bgPGHxTn",
        "outputId": "85236a92-c4e3-4242-9404-494a4b06a383"
      },
      "outputs": [
        {
          "name": "stdout",
          "output_type": "stream",
          "text": [
            "processing corpus :  TP_ISD2020/QUAERO_FrenchPress/QUAERO_FrenchPress_traindev.ospl\n"
          ]
        }
      ],
      "source": [
        "path2 = os.path.join( tp1 , corpus2)\n",
        "data2_ = []\n",
        "print (\"processing corpus : \" ,path2 )\n",
        "with open (path2 , \"r+\" , encoding = 'utf-8') as f :\n",
        "    for line in f :\n",
        "        stripped_line = line.strip()\n",
        "        line_list = stripped_line.split()\n",
        "        data2_.append(line_list)\n",
        "data2= data2_"
      ]
    },
    {
      "cell_type": "code",
      "execution_count": null,
      "metadata": {
        "id": "R_ndCbElHxTo",
        "outputId": "59e8c8bb-c779-41e1-ec78-9da85a0bd76b"
      },
      "outputs": [
        {
          "name": "stdout",
          "output_type": "stream",
          "text": [
            "processing corpus :  QUAERO_FrenchMed/QUAERO_FrenchMed_traindev.ospl\n",
            "processing corpus :  QUAERO_FrenchPress/QUAERO_FrenchPress_traindev.ospl\n"
          ]
        }
      ],
      "source": [
        "#Combine the Two corpuses\n",
        "for d in corpus :\n",
        "    path = os.path.join( tp1 , d)\n",
        "    data_ = []\n",
        "    print (\"processing corpus : \" ,d )\n",
        "    with open (path , \"r+\" , encoding = 'utf-8') as f :\n",
        "        for line in f :\n",
        "            stripped_line = line.strip()\n",
        "            line_list = stripped_line.split()\n",
        "            data_.append(line_list)\n",
        "\n",
        "    data[d]= data_\n",
        ""
      ]
    },
    {
      "cell_type": "markdown",
      "metadata": {
        "id": "u5ah7jt9HxTo"
      },
      "source": [
        "# word2vec : Cbow"
      ]
    },
    {
      "cell_type": "markdown",
      "metadata": {
        "id": "mpwGChYvHxTp"
      },
      "source": [
        "## Training"
      ]
    },
    {
      "cell_type": "code",
      "execution_count": null,
      "metadata": {
        "id": "bAMl5VfAHxTp"
      },
      "outputs": [],
      "source": [
        "#workers: The number of partitions during training and the default workers is 3.\n",
        "#size: The number of dimensions of the embeddings and the default is 100.\n",
        "#window: The maximum distance between a target word and words around the target word. The default window is 5.\n",
        "#min_count: The minimum count of words to consider when training the model; words with occurrence less than this count will be ignored.\n",
        "#The default for min_count is 5.\n",
        "#sg: The training algorithm, either CBOW(0) or skip gram(1). The default training algorithm is CBOW.\n",
        "model_CBOW_corpus1 = Word2Vec(data1, min_count=1,size= 50,workers=3, window =13, sg = 0)\n",
        "model_CBOW_corpus2 = Word2Vec(data2, min_count=1,size= 50,workers=3, window =13, sg = 0)"
      ]
    },
    {
      "cell_type": "code",
      "execution_count": null,
      "metadata": {
        "id": "IEEXYyFWHxTp"
      },
      "outputs": [],
      "source": [
        "\n",
        "for d in corpus :\n",
        "    model_CBOW = Word2Vec(data[d], min_count=1,size= 50,workers=3, window =13, sg = 0)"
      ]
    },
    {
      "cell_type": "markdown",
      "metadata": {
        "id": "8rDCDcjiHxTq"
      },
      "source": [
        "## Similarity"
      ]
    },
    {
      "cell_type": "code",
      "execution_count": null,
      "metadata": {
        "id": "I629z-EfHxTq",
        "outputId": "c2299e11-f0c6-4520-e49e-c6bf64f0159b"
      },
      "outputs": [
        {
          "name": "stderr",
          "output_type": "stream",
          "text": [
            "/Users/smail/anaconda3/lib/python3.7/site-packages/ipykernel_launcher.py:1: DeprecationWarning: Call to deprecated `most_similar` (Method will be removed in 4.0.0, use self.wv.most_similar() instead).\n",
            "  \"\"\"Entry point for launching an IPython kernel.\n"
          ]
        },
        {
          "data": {
            "text/plain": [
              "[('ce', 0.9998246431350708),\n",
              " ('des', 0.9998224973678589),\n",
              " ('un', 0.9998224973678589),\n",
              " ('la', 0.9998212456703186),\n",
              " ('les', 0.9998130798339844),\n",
              " ('être', 0.999809980392456),\n",
              " ('que', 0.9998090267181396),\n",
              " ('du', 0.9998071193695068),\n",
              " ('d', 0.9998049139976501),\n",
              " ('ou', 0.9998043775558472)]"
            ]
          },
          "execution_count": 19,
          "metadata": {},
          "output_type": "execute_result"
        }
      ],
      "source": [
        "model_CBOW_corpus1.most_similar(positive=['patient'], topn=10)"
      ]
    },
    {
      "cell_type": "code",
      "execution_count": null,
      "metadata": {
        "id": "tjJMWiIJHxTq",
        "outputId": "5829a46f-ab3b-4718-853d-86f5bab33e26"
      },
      "outputs": [
        {
          "name": "stderr",
          "output_type": "stream",
          "text": [
            "/Users/smail/anaconda3/lib/python3.7/site-packages/ipykernel_launcher.py:1: DeprecationWarning: Call to deprecated `most_similar` (Method will be removed in 4.0.0, use self.wv.most_similar() instead).\n",
            "  \"\"\"Entry point for launching an IPython kernel.\n"
          ]
        },
        {
          "data": {
            "text/plain": [
              "[('promise', 0.896385908126831),\n",
              " ('actor', 0.886506974697113),\n",
              " ('Mots', 0.874843180179596),\n",
              " ('be', 0.8695969581604004),\n",
              " ('Terre', 0.8691208362579346),\n",
              " ('trimballent', 0.868354082107544),\n",
              " ('here', 0.8681414127349854),\n",
              " ('employant', 0.8674221634864807),\n",
              " ('being', 0.866951048374176),\n",
              " ('dose', 0.8661909103393555)]"
            ]
          },
          "execution_count": 22,
          "metadata": {},
          "output_type": "execute_result"
        }
      ],
      "source": [
        "model_CBOW_corpus2.most_similar(positive=['patient'], topn=10)"
      ]
    },
    {
      "cell_type": "code",
      "execution_count": null,
      "metadata": {
        "id": "7IKupjTnHxTr",
        "outputId": "2e6c2f2b-5780-4384-d637-01b495974389"
      },
      "outputs": [
        {
          "name": "stderr",
          "output_type": "stream",
          "text": [
            "/Users/smail/anaconda3/lib/python3.7/site-packages/ipykernel_launcher.py:1: DeprecationWarning: Call to deprecated `most_similar` (Method will be removed in 4.0.0, use self.wv.most_similar() instead).\n",
            "  \"\"\"Entry point for launching an IPython kernel.\n"
          ]
        },
        {
          "data": {
            "text/plain": [
              "[('handicap', 0.8655585050582886),\n",
              " ('type', 0.86328125),\n",
              " ('étrange', 0.8548761606216431),\n",
              " ('café', 0.8467438220977783),\n",
              " ('Bernhard', 0.8459519147872925),\n",
              " ('confort', 0.8457393646240234),\n",
              " ('couple', 0.8375486135482788),\n",
              " ('conte', 0.8363866806030273),\n",
              " ('rideau', 0.8353506326675415),\n",
              " ('bonus', 0.8332513570785522)]"
            ]
          },
          "execution_count": 34,
          "metadata": {},
          "output_type": "execute_result"
        }
      ],
      "source": [
        "model_CBOW.most_similar(positive=['patient'], topn=10)"
      ]
    },
    {
      "cell_type": "code",
      "execution_count": null,
      "metadata": {
        "id": "Z6arFV4lHxTr",
        "outputId": "5c36e96f-193b-4595-f4d8-e26397c99cdd"
      },
      "outputs": [
        {
          "name": "stderr",
          "output_type": "stream",
          "text": [
            "/Users/smail/anaconda3/lib/python3.7/site-packages/ipykernel_launcher.py:1: DeprecationWarning: Call to deprecated `most_similar` (Method will be removed in 4.0.0, use self.wv.most_similar() instead).\n",
            "  \"\"\"Entry point for launching an IPython kernel.\n"
          ]
        },
        {
          "data": {
            "text/plain": [
              "[('le', 0.9999243021011353),\n",
              " ('des', 0.9999206066131592),\n",
              " ('que', 0.9999197721481323),\n",
              " ('la', 0.9999179840087891),\n",
              " ('TYSABRI', 0.9999130964279175),\n",
              " ('les', 0.999911904335022),\n",
              " ('dans', 0.9999098181724548),\n",
              " ('d', 0.9999082088470459),\n",
              " ('médecin', 0.9999078512191772),\n",
              " ('être', 0.9999061226844788)]"
            ]
          },
          "execution_count": 33,
          "metadata": {},
          "output_type": "execute_result"
        }
      ],
      "source": [
        "model_CBOW_corpus1.most_similar(positive=['traitement'], topn=10)"
      ]
    },
    {
      "cell_type": "code",
      "execution_count": null,
      "metadata": {
        "id": "6oCXVcxoHxTr",
        "outputId": "ad5c93e6-3dd2-4848-a4e1-3de82a919a93"
      },
      "outputs": [
        {
          "name": "stderr",
          "output_type": "stream",
          "text": [
            "/Users/smail/anaconda3/lib/python3.7/site-packages/ipykernel_launcher.py:1: DeprecationWarning: Call to deprecated `most_similar` (Method will be removed in 4.0.0, use self.wv.most_similar() instead).\n",
            "  \"\"\"Entry point for launching an IPython kernel.\n"
          ]
        },
        {
          "data": {
            "text/plain": [
              "[('nucléaire', 0.9112191200256348),\n",
              " ('profil', 0.9056339263916016),\n",
              " ('profit', 0.9048013687133789),\n",
              " ('collectif', 0.9033128023147583),\n",
              " ('pacte', 0.9030148983001709),\n",
              " ('sexe', 0.8960894346237183),\n",
              " ('tea', 0.8950019478797913),\n",
              " ('room', 0.8902795314788818),\n",
              " ('contenu', 0.8881915807723999),\n",
              " ('Chili', 0.8857771754264832)]"
            ]
          },
          "execution_count": 34,
          "metadata": {},
          "output_type": "execute_result"
        }
      ],
      "source": [
        "model_CBOW_corpus2.most_similar(positive=['traitement'], topn=10)"
      ]
    },
    {
      "cell_type": "code",
      "execution_count": null,
      "metadata": {
        "id": "YlTlgGrSHxTr",
        "outputId": "e5f96e8c-3ad2-4740-b18a-ff48bf7b6b4e"
      },
      "outputs": [
        {
          "name": "stderr",
          "output_type": "stream",
          "text": [
            "/Users/smail/anaconda3/lib/python3.7/site-packages/ipykernel_launcher.py:1: DeprecationWarning: Call to deprecated `most_similar` (Method will be removed in 4.0.0, use self.wv.most_similar() instead).\n",
            "  \"\"\"Entry point for launching an IPython kernel.\n"
          ]
        },
        {
          "data": {
            "text/plain": [
              "[('blouse', 0.9246562719345093),\n",
              " ('bois', 0.9243432879447937),\n",
              " ('ordonnée', 0.9050331711769104),\n",
              " ('latine', 0.9031339883804321),\n",
              " ('impôt', 0.9008439183235168),\n",
              " ('influencer', 0.9005589485168457),\n",
              " ('envers', 0.8997730016708374),\n",
              " ('stockage', 0.8977264165878296),\n",
              " ('crédit', 0.8937022089958191),\n",
              " ('laboratoire', 0.89212965965271)]"
            ]
          },
          "execution_count": 35,
          "metadata": {},
          "output_type": "execute_result"
        }
      ],
      "source": [
        "model_CBOW.most_similar(positive=['traitement'], topn=10)"
      ]
    },
    {
      "cell_type": "code",
      "execution_count": null,
      "metadata": {
        "id": "-lM5KLusHxTs",
        "outputId": "bbdef0b9-61ae-423e-cdca-3267db6f902e"
      },
      "outputs": [
        {
          "name": "stderr",
          "output_type": "stream",
          "text": [
            "/Users/smail/anaconda3/lib/python3.7/site-packages/ipykernel_launcher.py:1: DeprecationWarning: Call to deprecated `most_similar` (Method will be removed in 4.0.0, use self.wv.most_similar() instead).\n",
            "  \"\"\"Entry point for launching an IPython kernel.\n"
          ]
        },
        {
          "data": {
            "text/plain": [
              "[('mg', 0.9998143315315247),\n",
              " ('/', 0.9997311234474182),\n",
              " ('injectable', 0.9997051358222961),\n",
              " ('contient', 0.9997026324272156),\n",
              " ('perfusion', 0.9996694922447205),\n",
              " ('jour', 0.9996649026870728),\n",
              " ('flacon', 0.9996419548988342),\n",
              " ('15', 0.9995957612991333),\n",
              " ('fois', 0.999579906463623),\n",
              " ('100', 0.9995765686035156)]"
            ]
          },
          "execution_count": 36,
          "metadata": {},
          "output_type": "execute_result"
        }
      ],
      "source": [
        "model_CBOW_corpus1.most_similar(positive=['solution'], topn=10)"
      ]
    },
    {
      "cell_type": "code",
      "execution_count": null,
      "metadata": {
        "id": "bGGySwjlHxTs",
        "outputId": "fc3c2fe1-9463-41cf-95e4-64634007002f"
      },
      "outputs": [
        {
          "name": "stderr",
          "output_type": "stream",
          "text": [
            "/Users/smail/anaconda3/lib/python3.7/site-packages/ipykernel_launcher.py:1: DeprecationWarning: Call to deprecated `most_similar` (Method will be removed in 4.0.0, use self.wv.most_similar() instead).\n",
            "  \"\"\"Entry point for launching an IPython kernel.\n"
          ]
        },
        {
          "data": {
            "text/plain": [
              "[('reconnaissance', 0.9233072400093079),\n",
              " ('perspective', 0.9132713675498962),\n",
              " ('démocratie', 0.911764919757843),\n",
              " ('proposition', 0.9073121547698975),\n",
              " ('résolution', 0.8967406749725342),\n",
              " ('constitution', 0.894623339176178),\n",
              " ('définition', 0.8926258087158203),\n",
              " ('couverture', 0.8882397413253784),\n",
              " ('stratégie', 0.884844958782196),\n",
              " ('collective', 0.8816583156585693)]"
            ]
          },
          "execution_count": 37,
          "metadata": {},
          "output_type": "execute_result"
        }
      ],
      "source": [
        "model_CBOW_corpus2.most_similar(positive=['solution'], topn=10)"
      ]
    },
    {
      "cell_type": "code",
      "execution_count": null,
      "metadata": {
        "id": "lQ4iTo36HxTt",
        "outputId": "72acfbaa-be51-45e7-c3e6-ab5624099c77"
      },
      "outputs": [
        {
          "name": "stderr",
          "output_type": "stream",
          "text": [
            "/Users/smail/anaconda3/lib/python3.7/site-packages/ipykernel_launcher.py:1: DeprecationWarning: Call to deprecated `most_similar` (Method will be removed in 4.0.0, use self.wv.most_similar() instead).\n",
            "  \"\"\"Entry point for launching an IPython kernel.\n"
          ]
        },
        {
          "data": {
            "text/plain": [
              "[('démocratie', 0.9242765307426453),\n",
              " ('forme', 0.9012355208396912),\n",
              " ('règle', 0.9003258943557739),\n",
              " ('collective', 0.8973087668418884),\n",
              " ('puissance', 0.895950436592102),\n",
              " ('proposition', 0.8906351923942566),\n",
              " ('perspective', 0.8902353048324585),\n",
              " ('uniquement', 0.8889040350914001),\n",
              " ('évidente', 0.8841437101364136),\n",
              " ('langue', 0.8808174133300781)]"
            ]
          },
          "execution_count": 38,
          "metadata": {},
          "output_type": "execute_result"
        }
      ],
      "source": [
        "model_CBOW.most_similar(positive=['solution'], topn=10)"
      ]
    },
    {
      "cell_type": "code",
      "execution_count": null,
      "metadata": {
        "id": "VmdhAl4CHxTt",
        "outputId": "d265b58e-7cf9-4e87-c32b-317c682877a6"
      },
      "outputs": [
        {
          "name": "stderr",
          "output_type": "stream",
          "text": [
            "/Users/smail/anaconda3/lib/python3.7/site-packages/ipykernel_launcher.py:1: DeprecationWarning: Call to deprecated `most_similar` (Method will be removed in 4.0.0, use self.wv.most_similar() instead).\n",
            "  \"\"\"Entry point for launching an IPython kernel.\n"
          ]
        },
        {
          "data": {
            "text/plain": [
              "[('B', 0.9991532564163208),\n",
              " ('sans', 0.9991365671157837),\n",
              " ('LA', 0.9991215467453003),\n",
              " ('nouveau', 0.9991078972816467),\n",
              " ('À', 0.9990977644920349),\n",
              " (';', 0.999096155166626),\n",
              " ('également', 0.9990904331207275),\n",
              " ('Etude', 0.9990861415863037),\n",
              " ('La', 0.9990735054016113),\n",
              " ('DE', 0.99906986951828)]"
            ]
          },
          "execution_count": 39,
          "metadata": {},
          "output_type": "execute_result"
        }
      ],
      "source": [
        "model_CBOW_corpus1.most_similar(positive=['jaune'], topn=10)"
      ]
    },
    {
      "cell_type": "code",
      "execution_count": null,
      "metadata": {
        "id": "bFqJc-GVHxTt",
        "outputId": "d5c0dd2a-aa24-4990-c23b-f77cc7fa7ed9"
      },
      "outputs": [
        {
          "name": "stderr",
          "output_type": "stream",
          "text": [
            "/Users/smail/anaconda3/lib/python3.7/site-packages/ipykernel_launcher.py:1: DeprecationWarning: Call to deprecated `most_similar` (Method will be removed in 4.0.0, use self.wv.most_similar() instead).\n",
            "  \"\"\"Entry point for launching an IPython kernel.\n"
          ]
        },
        {
          "data": {
            "text/plain": [
              "[('Daba', 0.955121636390686),\n",
              " ('maillot', 0.9519052505493164),\n",
              " ('LVMH', 0.9373309016227722),\n",
              " ('joueur', 0.9358335137367249),\n",
              " ('cavalier', 0.9350875616073608),\n",
              " ('Nadal', 0.9347551465034485),\n",
              " ('chanteur', 0.934654176235199),\n",
              " ('sauts', 0.9326222538948059),\n",
              " ('Louis', 0.9305540323257446),\n",
              " ('Mark', 0.9303146600723267)]"
            ]
          },
          "execution_count": 40,
          "metadata": {},
          "output_type": "execute_result"
        }
      ],
      "source": [
        "model_CBOW_corpus2.most_similar(positive=['jaune'], topn=10)"
      ]
    },
    {
      "cell_type": "code",
      "execution_count": null,
      "metadata": {
        "id": "CFZcDi69HxTt",
        "outputId": "6c942a92-b20a-4128-e246-9573c3eddd82"
      },
      "outputs": [
        {
          "name": "stderr",
          "output_type": "stream",
          "text": [
            "/Users/smail/anaconda3/lib/python3.7/site-packages/ipykernel_launcher.py:1: DeprecationWarning: Call to deprecated `most_similar` (Method will be removed in 4.0.0, use self.wv.most_similar() instead).\n",
            "  \"\"\"Entry point for launching an IPython kernel.\n"
          ]
        },
        {
          "data": {
            "text/plain": [
              "[('Daba', 0.9557110071182251),\n",
              " ('maître', 0.9548081159591675),\n",
              " ('Axa', 0.9527183771133423),\n",
              " ('von', 0.9507094025611877),\n",
              " ('remporte', 0.9498571157455444),\n",
              " ('Aventis', 0.9490337371826172),\n",
              " ('Peter', 0.9481239318847656),\n",
              " ('express', 0.9475470781326294),\n",
              " ('Mariah', 0.9462016820907593),\n",
              " ('Cap', 0.9454505443572998)]"
            ]
          },
          "execution_count": 37,
          "metadata": {},
          "output_type": "execute_result"
        }
      ],
      "source": [
        "model_CBOW.most_similar(positive=['jaune'], topn=10)"
      ]
    },
    {
      "cell_type": "markdown",
      "metadata": {
        "id": "oYz0qFrEHxTt"
      },
      "source": [
        "# word2vec : skipgram"
      ]
    },
    {
      "cell_type": "markdown",
      "metadata": {
        "id": "y2G4CXzeHxTu"
      },
      "source": [
        "## Training"
      ]
    },
    {
      "cell_type": "code",
      "execution_count": null,
      "metadata": {
        "id": "m8ul_ac3HxTu"
      },
      "outputs": [],
      "source": [
        "model_skipgram_corpus1 = Word2Vec(data1, min_count=1,size=50,workers=3, window =13, sg = 1)"
      ]
    },
    {
      "cell_type": "code",
      "execution_count": null,
      "metadata": {
        "id": "nzuuD7AEHxTu"
      },
      "outputs": [],
      "source": [
        "model_skipgram_corpus2 = Word2Vec(data2, min_count=1,size=50,workers=3, window =13, sg = 1)"
      ]
    },
    {
      "cell_type": "code",
      "execution_count": null,
      "metadata": {
        "id": "icgENa-EHxTu"
      },
      "outputs": [],
      "source": [
        "#sg: The training algorithm, either CBOW(0) or skip gram(1). The default training algorithm is CBOW.\n",
        "for d in corpus :\n",
        "    model_skipgram = Word2Vec(data[d], min_count=1,size=50,workers=3, window =13, sg = 1)"
      ]
    },
    {
      "cell_type": "markdown",
      "metadata": {
        "id": "Ifxtyy-kHxTu"
      },
      "source": [
        "## Similarity"
      ]
    },
    {
      "cell_type": "code",
      "execution_count": null,
      "metadata": {
        "id": "gPozzoS-HxTu",
        "outputId": "0cacc5f4-4d3f-4468-f23c-9a3a3b0c8316"
      },
      "outputs": [
        {
          "name": "stderr",
          "output_type": "stream",
          "text": [
            "/Users/smail/anaconda3/lib/python3.7/site-packages/ipykernel_launcher.py:1: DeprecationWarning: Call to deprecated `most_similar` (Method will be removed in 4.0.0, use self.wv.most_similar() instead).\n",
            "  \"\"\"Entry point for launching an IPython kernel.\n"
          ]
        },
        {
          "data": {
            "text/plain": [
              "[('réfléchi', 0.956926703453064),\n",
              " ('motivation', 0.9547516703605652),\n",
              " ('parvient', 0.9505707621574402),\n",
              " ('définie', 0.9501729011535645),\n",
              " ('mécanique', 0.948978841304779),\n",
              " ('journalistique', 0.9486573934555054),\n",
              " ('manipulation', 0.9481102824211121),\n",
              " ('flics', 0.9468144178390503),\n",
              " ('intimité', 0.9466842412948608),\n",
              " ('contamination', 0.9462772607803345)]"
            ]
          },
          "execution_count": 44,
          "metadata": {},
          "output_type": "execute_result"
        }
      ],
      "source": [
        "model_skipgram_corpus1.most_similar(positive=['patient'], topn=10)"
      ]
    },
    {
      "cell_type": "code",
      "execution_count": null,
      "metadata": {
        "id": "7OakeYJdHxTv",
        "outputId": "19946f47-96c1-45a8-b35d-b211071d869e"
      },
      "outputs": [
        {
          "name": "stderr",
          "output_type": "stream",
          "text": [
            "/Users/smail/anaconda3/lib/python3.7/site-packages/ipykernel_launcher.py:1: DeprecationWarning: Call to deprecated `most_similar` (Method will be removed in 4.0.0, use self.wv.most_similar() instead).\n",
            "  \"\"\"Entry point for launching an IPython kernel.\n"
          ]
        },
        {
          "data": {
            "text/plain": [
              "[('journalistique', 0.9559543132781982),\n",
              " ('réfléchi', 0.9534489512443542),\n",
              " ('mécanique', 0.9466634392738342),\n",
              " ('gouverné', 0.9450811147689819),\n",
              " ('Annam', 0.9436949491500854),\n",
              " ('serrure', 0.9431817531585693),\n",
              " ('fiable', 0.9430439472198486),\n",
              " ('pacsé', 0.9417839646339417),\n",
              " ('manquait', 0.9412908554077148),\n",
              " ('forcer', 0.9412298202514648)]"
            ]
          },
          "execution_count": 45,
          "metadata": {},
          "output_type": "execute_result"
        }
      ],
      "source": [
        "model_skipgram_corpus2.most_similar(positive=['patient'], topn=10)"
      ]
    },
    {
      "cell_type": "code",
      "execution_count": null,
      "metadata": {
        "id": "yZSHsptfHxTv",
        "outputId": "4ee0afb5-c7d1-49a5-a27f-654cd21b07d9"
      },
      "outputs": [
        {
          "name": "stderr",
          "output_type": "stream",
          "text": [
            "/Users/smail/anaconda3/lib/python3.7/site-packages/ipykernel_launcher.py:1: DeprecationWarning: Call to deprecated `most_similar` (Method will be removed in 4.0.0, use self.wv.most_similar() instead).\n",
            "  \"\"\"Entry point for launching an IPython kernel.\n"
          ]
        },
        {
          "data": {
            "text/plain": [
              "[('contamination', 0.9584155082702637),\n",
              " ('réfléchi', 0.9567559361457825),\n",
              " ('choquant', 0.9424834847450256),\n",
              " ('motivation', 0.9406836032867432),\n",
              " ('sincèrement', 0.9401057362556458),\n",
              " ('journalistique', 0.9400578737258911),\n",
              " ('fiable', 0.9395363330841064),\n",
              " ('mondes', 0.9395174384117126),\n",
              " ('illusions', 0.939396858215332),\n",
              " ('mécanique', 0.9389749765396118)]"
            ]
          },
          "execution_count": 25,
          "metadata": {},
          "output_type": "execute_result"
        }
      ],
      "source": [
        "model_skipgram.most_similar(positive=['patient'], topn=10)"
      ]
    },
    {
      "cell_type": "code",
      "execution_count": null,
      "metadata": {
        "id": "VYg29LqnHxTv",
        "outputId": "8560aa21-9e99-4e4b-de28-36568c6bf800"
      },
      "outputs": [
        {
          "name": "stderr",
          "output_type": "stream",
          "text": [
            "/Users/smail/anaconda3/lib/python3.7/site-packages/ipykernel_launcher.py:1: DeprecationWarning: Call to deprecated `most_similar` (Method will be removed in 4.0.0, use self.wv.most_similar() instead).\n",
            "  \"\"\"Entry point for launching an IPython kernel.\n"
          ]
        },
        {
          "data": {
            "text/plain": [
              "[('financement', 0.8898460865020752),\n",
              " ('financier', 0.8848247528076172),\n",
              " ('assistance', 0.8794130086898804),\n",
              " ('outil', 0.8731875419616699),\n",
              " ('pédagogique', 0.8658128976821899),\n",
              " ('destiné', 0.8630064725875854),\n",
              " ('Fonds', 0.8627778887748718),\n",
              " ('plans', 0.8624961972236633),\n",
              " ('alimentaire', 0.859336256980896),\n",
              " ('touristique', 0.8560127019882202)]"
            ]
          },
          "execution_count": 46,
          "metadata": {},
          "output_type": "execute_result"
        }
      ],
      "source": [
        "model_skipgram_corpus1.most_similar(positive=['traitement'], topn=10)"
      ]
    },
    {
      "cell_type": "code",
      "execution_count": null,
      "metadata": {
        "id": "-sFTplZqHxTv",
        "outputId": "42564861-e49c-46d9-a8d4-904fd575ae7f"
      },
      "outputs": [
        {
          "name": "stderr",
          "output_type": "stream",
          "text": [
            "/Users/smail/anaconda3/lib/python3.7/site-packages/ipykernel_launcher.py:1: DeprecationWarning: Call to deprecated `most_similar` (Method will be removed in 4.0.0, use self.wv.most_similar() instead).\n",
            "  \"\"\"Entry point for launching an IPython kernel.\n"
          ]
        },
        {
          "data": {
            "text/plain": [
              "[('financier', 0.9008690118789673),\n",
              " ('pédagogique', 0.8921712636947632),\n",
              " ('accorde', 0.8856289386749268),\n",
              " ('touristique', 0.885229229927063),\n",
              " ('outil', 0.8850362300872803),\n",
              " ('propice', 0.8849599361419678),\n",
              " ('dicté', 0.8826771974563599),\n",
              " ('nécessite', 0.8820484280586243),\n",
              " ('gouvernance', 0.8814994096755981),\n",
              " ('expertise', 0.8787413239479065)]"
            ]
          },
          "execution_count": 47,
          "metadata": {},
          "output_type": "execute_result"
        }
      ],
      "source": [
        "model_skipgram_corpus2.most_similar(positive=['traitement'], topn=10)"
      ]
    },
    {
      "cell_type": "code",
      "execution_count": null,
      "metadata": {
        "id": "wBFlAgd0HxTv",
        "outputId": "2b1b5fe2-cef7-4da6-9492-17457f61b59d"
      },
      "outputs": [
        {
          "name": "stderr",
          "output_type": "stream",
          "text": [
            "/Users/smail/anaconda3/lib/python3.7/site-packages/ipykernel_launcher.py:1: DeprecationWarning: Call to deprecated `most_similar` (Method will be removed in 4.0.0, use self.wv.most_similar() instead).\n",
            "  \"\"\"Entry point for launching an IPython kernel.\n"
          ]
        },
        {
          "data": {
            "text/plain": [
              "[('financier', 0.9029080867767334),\n",
              " ('touristique', 0.8805961608886719),\n",
              " ('outil', 0.8707373142242432),\n",
              " ('commerciale', 0.8676060438156128),\n",
              " ('plans', 0.8641930222511292),\n",
              " ('prééminence', 0.8641091585159302),\n",
              " ('commercialisation', 0.8598216772079468),\n",
              " ('égal', 0.8573621511459351),\n",
              " ('organisme', 0.8570616841316223),\n",
              " ('sensibiliser', 0.8557360768318176)]"
            ]
          },
          "execution_count": 26,
          "metadata": {},
          "output_type": "execute_result"
        }
      ],
      "source": [
        "model_skipgram.most_similar(positive=['traitement'], topn=10)"
      ]
    },
    {
      "cell_type": "code",
      "execution_count": null,
      "metadata": {
        "id": "VvNRc9MwHxTw",
        "outputId": "42068fcd-e97d-4f5a-8481-a7a6330bf2eb"
      },
      "outputs": [
        {
          "name": "stderr",
          "output_type": "stream",
          "text": [
            "/Users/smail/anaconda3/lib/python3.7/site-packages/ipykernel_launcher.py:1: DeprecationWarning: Call to deprecated `most_similar` (Method will be removed in 4.0.0, use self.wv.most_similar() instead).\n",
            "  \"\"\"Entry point for launching an IPython kernel.\n"
          ]
        },
        {
          "data": {
            "text/plain": [
              "[('pacifique', 0.8643319606781006),\n",
              " ('définition', 0.8240411877632141),\n",
              " ('consensuelle', 0.8159513473510742),\n",
              " ('conscient', 0.8159284591674805),\n",
              " ('atteinte', 0.8119596242904663),\n",
              " ('Charte', 0.8104351758956909),\n",
              " ('intégrité', 0.8097543716430664),\n",
              " ('acceptera', 0.8085949420928955),\n",
              " ('territoriale', 0.8065025806427002),\n",
              " ('chantage', 0.8060022592544556)]"
            ]
          },
          "execution_count": 48,
          "metadata": {},
          "output_type": "execute_result"
        }
      ],
      "source": [
        "model_skipgram_corpus1.most_similar(positive=['solution'], topn=10)"
      ]
    },
    {
      "cell_type": "code",
      "execution_count": null,
      "metadata": {
        "id": "vdrz8d8XHxT1",
        "outputId": "334fa22d-0ba1-4686-817b-7df865760a7f"
      },
      "outputs": [
        {
          "name": "stderr",
          "output_type": "stream",
          "text": [
            "/Users/smail/anaconda3/lib/python3.7/site-packages/ipykernel_launcher.py:1: DeprecationWarning: Call to deprecated `most_similar` (Method will be removed in 4.0.0, use self.wv.most_similar() instead).\n",
            "  \"\"\"Entry point for launching an IPython kernel.\n"
          ]
        },
        {
          "data": {
            "text/plain": [
              "[('pacifique', 0.8725566864013672),\n",
              " ('consensuelle', 0.8390258550643921),\n",
              " ('démocratie', 0.833294689655304),\n",
              " ('garantie', 0.8325841426849365),\n",
              " ('intégrité', 0.8299250602722168),\n",
              " ('claire', 0.8229236602783203),\n",
              " ('unie', 0.8183681964874268),\n",
              " ('Charte', 0.8175007104873657),\n",
              " ('atteinte', 0.8166628479957581),\n",
              " ('juridique', 0.8144527077674866)]"
            ]
          },
          "execution_count": 49,
          "metadata": {},
          "output_type": "execute_result"
        }
      ],
      "source": [
        "model_skipgram_corpus2.most_similar(positive=['solution'], topn=10)"
      ]
    },
    {
      "cell_type": "code",
      "execution_count": null,
      "metadata": {
        "id": "dVVr012CHxT1",
        "outputId": "87686751-5660-42c9-c882-6bf5a378cf33"
      },
      "outputs": [
        {
          "name": "stderr",
          "output_type": "stream",
          "text": [
            "/Users/smail/anaconda3/lib/python3.7/site-packages/ipykernel_launcher.py:1: DeprecationWarning: Call to deprecated `most_similar` (Method will be removed in 4.0.0, use self.wv.most_similar() instead).\n",
            "  \"\"\"Entry point for launching an IPython kernel.\n"
          ]
        },
        {
          "data": {
            "text/plain": [
              "[('pacifique', 0.8565613627433777),\n",
              " ('démocratie', 0.8329113721847534),\n",
              " ('consensuelle', 0.8218770027160645),\n",
              " ('crédibilité', 0.8171401619911194),\n",
              " ('acceptera', 0.8152739405632019),\n",
              " ('garantie', 0.7983769178390503),\n",
              " ('confrontation', 0.7954601645469666),\n",
              " ('acceptable', 0.792323648929596),\n",
              " ('règle', 0.7922954559326172),\n",
              " ('suffisante', 0.7922413349151611)]"
            ]
          },
          "execution_count": 27,
          "metadata": {},
          "output_type": "execute_result"
        }
      ],
      "source": [
        "model_skipgram.most_similar(positive=['solution'], topn=10)"
      ]
    },
    {
      "cell_type": "code",
      "execution_count": null,
      "metadata": {
        "id": "MJ75md_FHxT2",
        "outputId": "659b213e-f443-453a-e842-5f0e9558cc78"
      },
      "outputs": [
        {
          "name": "stderr",
          "output_type": "stream",
          "text": [
            "/Users/smail/anaconda3/lib/python3.7/site-packages/ipykernel_launcher.py:1: DeprecationWarning: Call to deprecated `most_similar` (Method will be removed in 4.0.0, use self.wv.most_similar() instead).\n",
            "  \"\"\"Entry point for launching an IPython kernel.\n"
          ]
        },
        {
          "data": {
            "text/plain": [
              "[('maillot', 0.940652072429657),\n",
              " ('Mark', 0.901659369468689),\n",
              " ('cycliste', 0.8939036726951599),\n",
              " ('Nottingham', 0.8928011655807495),\n",
              " ('chelem', 0.8910690546035767),\n",
              " ('emparé', 0.8905336856842041),\n",
              " ('Philippoussis', 0.8835861682891846),\n",
              " ('ATP', 0.8807178139686584),\n",
              " ('Bastad', 0.8806756734848022),\n",
              " ('Federer', 0.876600980758667)]"
            ]
          },
          "execution_count": 50,
          "metadata": {},
          "output_type": "execute_result"
        }
      ],
      "source": [
        "model_skipgram_corpus1.most_similar(positive=['jaune'], topn=10)"
      ]
    },
    {
      "cell_type": "code",
      "execution_count": null,
      "metadata": {
        "id": "h5m_SeBoHxT2",
        "outputId": "31135ad2-f40a-4d5b-fc9d-a8eca0b430af"
      },
      "outputs": [
        {
          "name": "stderr",
          "output_type": "stream",
          "text": [
            "/Users/smail/anaconda3/lib/python3.7/site-packages/ipykernel_launcher.py:1: DeprecationWarning: Call to deprecated `most_similar` (Method will be removed in 4.0.0, use self.wv.most_similar() instead).\n",
            "  \"\"\"Entry point for launching an IPython kernel.\n"
          ]
        },
        {
          "data": {
            "text/plain": [
              "[('maillot', 0.940652072429657),\n",
              " ('Mark', 0.901659369468689),\n",
              " ('cycliste', 0.8939036726951599),\n",
              " ('Nottingham', 0.8928011655807495),\n",
              " ('chelem', 0.8910690546035767),\n",
              " ('emparé', 0.8905336856842041),\n",
              " ('Philippoussis', 0.8835861682891846),\n",
              " ('ATP', 0.8807178139686584),\n",
              " ('Bastad', 0.8806756734848022),\n",
              " ('Federer', 0.876600980758667)]"
            ]
          },
          "execution_count": 51,
          "metadata": {},
          "output_type": "execute_result"
        }
      ],
      "source": [
        "model_skipgram_corpus1.most_similar(positive=['jaune'], topn=10)"
      ]
    },
    {
      "cell_type": "code",
      "execution_count": null,
      "metadata": {
        "id": "baFam0FoHxT2",
        "outputId": "bf863993-baaa-4324-b669-654fe6f8fc4c"
      },
      "outputs": [
        {
          "name": "stderr",
          "output_type": "stream",
          "text": [
            "/Users/smail/anaconda3/lib/python3.7/site-packages/ipykernel_launcher.py:1: DeprecationWarning: Call to deprecated `most_similar` (Method will be removed in 4.0.0, use self.wv.most_similar() instead).\n",
            "  \"\"\"Entry point for launching an IPython kernel.\n"
          ]
        },
        {
          "data": {
            "text/plain": [
              "[('maillot', 0.9369652271270752),\n",
              " ('Mark', 0.9174538254737854),\n",
              " ('cycliste', 0.9119886159896851),\n",
              " ('Nottingham', 0.9079236388206482),\n",
              " ('Messin', 0.8992151618003845),\n",
              " ('emparé', 0.891415536403656),\n",
              " ('Bastad', 0.8912339210510254),\n",
              " ('demi-finaliste', 0.8866510391235352),\n",
              " ('chelem', 0.8850752115249634),\n",
              " ('quadruple', 0.8833203911781311)]"
            ]
          },
          "execution_count": 28,
          "metadata": {},
          "output_type": "execute_result"
        }
      ],
      "source": [
        "model_skipgram.most_similar(positive=['jaune'], topn=10)"
      ]
    },
    {
      "cell_type": "markdown",
      "metadata": {
        "id": "_2uTpalKHxT3"
      },
      "source": [
        "# FastText :"
      ]
    },
    {
      "cell_type": "markdown",
      "metadata": {
        "id": "0hAfRjP_HxT3"
      },
      "source": [
        "## Training :"
      ]
    },
    {
      "cell_type": "code",
      "execution_count": null,
      "metadata": {
        "id": "T112CXQHHxT3"
      },
      "outputs": [],
      "source": [
        "model_fasttext_corpus1 = FastText(data1, size=50, window=5, min_count=1, workers=3,sg=1)"
      ]
    },
    {
      "cell_type": "code",
      "execution_count": null,
      "metadata": {
        "id": "u0goDaDrHxT3"
      },
      "outputs": [],
      "source": [
        "model_fasttext_corpus2 = FastText(data2, size=50, window=5, min_count=1, workers=3,sg=1)"
      ]
    },
    {
      "cell_type": "code",
      "execution_count": null,
      "metadata": {
        "id": "Eba05aQKHxT3"
      },
      "outputs": [],
      "source": [
        "for d in corpus :\n",
        "    model_fasttext = FastText(data[d], size=50, window=5, min_count=1, workers=3,sg=1)"
      ]
    },
    {
      "cell_type": "markdown",
      "metadata": {
        "id": "AV1SURDAHxT4"
      },
      "source": [
        "## Similarity :"
      ]
    },
    {
      "cell_type": "code",
      "execution_count": null,
      "metadata": {
        "id": "ecy1ivpfHxT4",
        "outputId": "d11a94bf-e9fc-4b5f-c271-876dfc36d058"
      },
      "outputs": [
        {
          "name": "stderr",
          "output_type": "stream",
          "text": [
            "/Users/smail/anaconda3/lib/python3.7/site-packages/ipykernel_launcher.py:1: DeprecationWarning: Call to deprecated `most_similar` (Method will be removed in 4.0.0, use self.wv.most_similar() instead).\n",
            "  \"\"\"Entry point for launching an IPython kernel.\n"
          ]
        },
        {
          "data": {
            "text/plain": [
              "[('patiente', 0.9965196251869202),\n",
              " ('traitées', 0.9952164888381958),\n",
              " ('conscients', 0.9950820207595825),\n",
              " ('sont', 0.9950588941574097),\n",
              " ('Patients', 0.99429851770401),\n",
              " ('clients', 0.9942380785942078),\n",
              " ('excipients', 0.9941069483757019),\n",
              " ('parents', 0.9938321113586426),\n",
              " ('ingrédients', 0.9931238889694214),\n",
              " ('traités', 0.9926800727844238)]"
            ]
          },
          "execution_count": 56,
          "metadata": {},
          "output_type": "execute_result"
        }
      ],
      "source": [
        "model_fasttext_corpus1.most_similar(positive=['patient'], topn=10)"
      ]
    },
    {
      "cell_type": "code",
      "execution_count": null,
      "metadata": {
        "id": "blclsv6UHxT4",
        "outputId": "0fac470b-666b-49e2-c425-675b77e6c062"
      },
      "outputs": [
        {
          "name": "stderr",
          "output_type": "stream",
          "text": [
            "/Users/smail/anaconda3/lib/python3.7/site-packages/ipykernel_launcher.py:1: DeprecationWarning: Call to deprecated `most_similar` (Method will be removed in 4.0.0, use self.wv.most_similar() instead).\n",
            "  \"\"\"Entry point for launching an IPython kernel.\n"
          ]
        },
        {
          "data": {
            "text/plain": [
              "[('impatient', 0.9658923745155334),\n",
              " ('patientent', 0.9486168026924133),\n",
              " ('abstient', 0.9459756016731262),\n",
              " ('quotient', 0.9406778812408447),\n",
              " ('impatientent', 0.9404717087745667),\n",
              " ('démontrent', 0.9368613362312317),\n",
              " ('privilégient', 0.9363154172897339),\n",
              " ('initient', 0.9356751441955566),\n",
              " ('détient', 0.932955265045166),\n",
              " ('protègent', 0.9319056272506714)]"
            ]
          },
          "execution_count": 57,
          "metadata": {},
          "output_type": "execute_result"
        }
      ],
      "source": [
        "model_fasttext_corpus2.most_similar(positive=['patient'], topn=10)"
      ]
    },
    {
      "cell_type": "code",
      "execution_count": null,
      "metadata": {
        "id": "7HSgExz3HxT4",
        "outputId": "c0f9951b-02d0-4843-9053-7e4786cfa873"
      },
      "outputs": [
        {
          "name": "stderr",
          "output_type": "stream",
          "text": [
            "/Users/smail/anaconda3/lib/python3.7/site-packages/ipykernel_launcher.py:1: DeprecationWarning: Call to deprecated `most_similar` (Method will be removed in 4.0.0, use self.wv.most_similar() instead).\n",
            "  \"\"\"Entry point for launching an IPython kernel.\n"
          ]
        },
        {
          "data": {
            "text/plain": [
              "[('impatient', 0.9667835235595703),\n",
              " ('abstient', 0.9518576860427856),\n",
              " ('détient', 0.9467599391937256),\n",
              " ('patientent', 0.9445046186447144),\n",
              " ('impatientent', 0.9358977675437927),\n",
              " ('quotient', 0.9317359924316406),\n",
              " ('initient', 0.9303312301635742),\n",
              " ('privilégient', 0.9289037585258484),\n",
              " ('contient', 0.9276337027549744),\n",
              " ('inconscient', 0.9268162250518799)]"
            ]
          },
          "execution_count": 33,
          "metadata": {},
          "output_type": "execute_result"
        }
      ],
      "source": [
        "model_fasttext.most_similar(positive=['patient'], topn=10)"
      ]
    },
    {
      "cell_type": "code",
      "execution_count": null,
      "metadata": {
        "id": "5mdU6tNrHxT4",
        "outputId": "2473d6f8-bf8c-4891-e138-aa37f2643860"
      },
      "outputs": [
        {
          "name": "stderr",
          "output_type": "stream",
          "text": [
            "/Users/smail/anaconda3/lib/python3.7/site-packages/ipykernel_launcher.py:1: DeprecationWarning: Call to deprecated `most_similar` (Method will be removed in 4.0.0, use self.wv.most_similar() instead).\n",
            "  \"\"\"Entry point for launching an IPython kernel.\n"
          ]
        },
        {
          "data": {
            "text/plain": [
              "[('Dissolution', 0.9955767393112183),\n",
              " ('Solution', 0.9926369786262512),\n",
              " ('evolution', 0.9889925718307495),\n",
              " ('Evolution', 0.9886832237243652),\n",
              " ('dilution', 0.984487771987915),\n",
              " ('Pollution', 0.9834710359573364),\n",
              " ('Flacon', 0.9821534156799316),\n",
              " ('soluté', 0.9815763831138611),\n",
              " ('évolution', 0.9808145761489868),\n",
              " ('solutions', 0.9804384708404541)]"
            ]
          },
          "execution_count": 58,
          "metadata": {},
          "output_type": "execute_result"
        }
      ],
      "source": [
        "model_fasttext_corpus1.most_similar(positive=['solution'], topn=10)"
      ]
    },
    {
      "cell_type": "code",
      "execution_count": null,
      "metadata": {
        "id": "BBxHIfoyHxT5",
        "outputId": "a2014479-15fc-499a-96c3-fd7ff0cc12f0"
      },
      "outputs": [
        {
          "name": "stderr",
          "output_type": "stream",
          "text": [
            "/Users/smail/anaconda3/lib/python3.7/site-packages/ipykernel_launcher.py:1: DeprecationWarning: Call to deprecated `most_similar` (Method will be removed in 4.0.0, use self.wv.most_similar() instead).\n",
            "  \"\"\"Entry point for launching an IPython kernel.\n"
          ]
        },
        {
          "data": {
            "text/plain": [
              "[('dissolution', 0.9716649651527405),\n",
              " ('résolution', 0.9713366031646729),\n",
              " ('dilution', 0.9687267541885376),\n",
              " ('révolution', 0.9567869901657104),\n",
              " ('caution', 0.9557214975357056),\n",
              " ('pollution', 0.9555888175964355),\n",
              " ('évolution', 0.9528512954711914),\n",
              " ('résorption', 0.9271762371063232),\n",
              " ('parution', 0.9257389307022095),\n",
              " ('option', 0.925020694732666)]"
            ]
          },
          "execution_count": 59,
          "metadata": {},
          "output_type": "execute_result"
        }
      ],
      "source": [
        "model_fasttext_corpus2.most_similar(positive=['solution'], topn=10)"
      ]
    },
    {
      "cell_type": "code",
      "execution_count": null,
      "metadata": {
        "id": "XYxWNKSvHxT5",
        "outputId": "ced6e2ed-d2d1-4693-d3b3-3e1ce2fdad44"
      },
      "outputs": [
        {
          "name": "stderr",
          "output_type": "stream",
          "text": [
            "/Users/smail/anaconda3/lib/python3.7/site-packages/ipykernel_launcher.py:1: DeprecationWarning: Call to deprecated `most_similar` (Method will be removed in 4.0.0, use self.wv.most_similar() instead).\n",
            "  \"\"\"Entry point for launching an IPython kernel.\n"
          ]
        },
        {
          "data": {
            "text/plain": [
              "[('dissolution', 0.9756176471710205),\n",
              " ('résolution', 0.9683951139450073),\n",
              " ('dilution', 0.966659426689148),\n",
              " ('pollution', 0.9623277187347412),\n",
              " ('révolution', 0.9529111981391907),\n",
              " ('caution', 0.9500443339347839),\n",
              " ('évolution', 0.9485270977020264),\n",
              " ('désolation', 0.9337315559387207),\n",
              " ('réprobation', 0.9307947158813477),\n",
              " ('potion', 0.9289618134498596)]"
            ]
          },
          "execution_count": 30,
          "metadata": {},
          "output_type": "execute_result"
        }
      ],
      "source": [
        "model_fasttext.most_similar(positive=['solution'], topn=10)"
      ]
    },
    {
      "cell_type": "code",
      "execution_count": null,
      "metadata": {
        "id": "DyFTGepmHxT6",
        "outputId": "28af769a-1527-4efa-9ac1-189543eeef0c"
      },
      "outputs": [
        {
          "name": "stderr",
          "output_type": "stream",
          "text": [
            "/Users/smail/anaconda3/lib/python3.7/site-packages/ipykernel_launcher.py:1: DeprecationWarning: Call to deprecated `most_similar` (Method will be removed in 4.0.0, use self.wv.most_similar() instead).\n",
            "  \"\"\"Entry point for launching an IPython kernel.\n"
          ]
        },
        {
          "data": {
            "text/plain": [
              "[('absolue', 0.999289333820343),\n",
              " ('hydroquinone', 0.9987788200378418),\n",
              " ('flurbiprophène', 0.9986740350723267),\n",
              " ('isolee', 0.9985953569412231),\n",
              " ('polyéthylène', 0.9984685182571411),\n",
              " ('Poudre', 0.9982743263244629),\n",
              " ('Eledone', 0.9982180595397949),\n",
              " ('programme', 0.9982161521911621),\n",
              " ('Propylène', 0.9982160925865173),\n",
              " ('méthyléthylcetone', 0.9982118010520935)]"
            ]
          },
          "execution_count": 60,
          "metadata": {},
          "output_type": "execute_result"
        }
      ],
      "source": [
        "model_fasttext_corpus1.most_similar(positive=['jaune'], topn=10)"
      ]
    },
    {
      "cell_type": "code",
      "execution_count": null,
      "metadata": {
        "id": "d-Be_kScHxT6",
        "outputId": "e31dbd79-c0a3-4dec-8f19-2ffffedda34a"
      },
      "outputs": [
        {
          "name": "stderr",
          "output_type": "stream",
          "text": [
            "/Users/smail/anaconda3/lib/python3.7/site-packages/ipykernel_launcher.py:1: DeprecationWarning: Call to deprecated `most_similar` (Method will be removed in 4.0.0, use self.wv.most_similar() instead).\n",
            "  \"\"\"Entry point for launching an IPython kernel.\n"
          ]
        },
        {
          "data": {
            "text/plain": [
              "[('Saâdoune', 0.9381293058395386),\n",
              " ('Saadoune', 0.9328145384788513),\n",
              " ('Jeune', 0.9280577301979065),\n",
              " ('Lugdula', 0.9270569682121277),\n",
              " ('Cayle', 0.926908016204834),\n",
              " ('Pilote', 0.9245349168777466),\n",
              " ('Neptune', 0.924112856388092),\n",
              " ('Harare', 0.9215911626815796),\n",
              " ('Agboula', 0.9201529026031494),\n",
              " ('Mougeotte', 0.9200818538665771)]"
            ]
          },
          "execution_count": 61,
          "metadata": {},
          "output_type": "execute_result"
        }
      ],
      "source": [
        "model_fasttext_corpus2.most_similar(positive=['jaune'], topn=10)"
      ]
    },
    {
      "cell_type": "code",
      "execution_count": null,
      "metadata": {
        "id": "UTN3N-xgHxT7",
        "outputId": "c495afb9-4cd4-47b9-a07a-f7dd1db7e766"
      },
      "outputs": [
        {
          "name": "stderr",
          "output_type": "stream",
          "text": [
            "/Users/smail/anaconda3/lib/python3.7/site-packages/ipykernel_launcher.py:1: DeprecationWarning: Call to deprecated `most_similar` (Method will be removed in 4.0.0, use self.wv.most_similar() instead).\n",
            "  \"\"\"Entry point for launching an IPython kernel.\n"
          ]
        },
        {
          "data": {
            "text/plain": [
              "[('cinéaste', 0.9339404106140137),\n",
              " ('People', 0.9324310421943665),\n",
              " ('steeple', 0.9295745491981506),\n",
              " ('Pilote', 0.926642119884491),\n",
              " ('halte', 0.9258952140808105),\n",
              " ('Mougeotte', 0.9210008382797241),\n",
              " ('Elbe', 0.9171171188354492),\n",
              " ('Saâdoune', 0.9143961071968079),\n",
              " ('Saadoune', 0.9103406667709351),\n",
              " ('altiste', 0.9099539518356323)]"
            ]
          },
          "execution_count": 31,
          "metadata": {},
          "output_type": "execute_result"
        }
      ],
      "source": [
        "model_fasttext.most_similar(positive=['jaune'], topn=10)"
      ]
    },
    {
      "cell_type": "code",
      "execution_count": null,
      "metadata": {
        "id": "69-rU2F-HxT7",
        "outputId": "b99eb19a-6eec-4f45-8e0c-f3d6acf6c1a7"
      },
      "outputs": [
        {
          "name": "stderr",
          "output_type": "stream",
          "text": [
            "/Users/smail/anaconda3/lib/python3.7/site-packages/ipykernel_launcher.py:1: DeprecationWarning: Call to deprecated `most_similar` (Method will be removed in 4.0.0, use self.wv.most_similar() instead).\n",
            "  \"\"\"Entry point for launching an IPython kernel.\n"
          ]
        },
        {
          "data": {
            "text/plain": [
              "[('Traitement', 0.9993630051612854),\n",
              " ('Taaitement', 0.9988401532173157),\n",
              " ('Allaitement', 0.9978610277175903),\n",
              " ('traitment', 0.9977115392684937),\n",
              " ('évitement', 0.9972436428070068),\n",
              " ('allaitement', 0.9967980980873108),\n",
              " ('lentement', 0.9960731267929077),\n",
              " ('traitements', 0.9958523511886597),\n",
              " ('hautement', 0.9954840540885925),\n",
              " ('avortement', 0.9952266216278076)]"
            ]
          },
          "execution_count": 62,
          "metadata": {},
          "output_type": "execute_result"
        }
      ],
      "source": [
        "model_fasttext_corpus1.most_similar(positive=['traitement'], topn=10)"
      ]
    },
    {
      "cell_type": "code",
      "execution_count": null,
      "metadata": {
        "id": "gQy4gGLmHxT7",
        "outputId": "71f4dbf4-9403-4200-cf43-a24de374c136"
      },
      "outputs": [
        {
          "name": "stderr",
          "output_type": "stream",
          "text": [
            "/Users/smail/anaconda3/lib/python3.7/site-packages/ipykernel_launcher.py:1: DeprecationWarning: Call to deprecated `most_similar` (Method will be removed in 4.0.0, use self.wv.most_similar() instead).\n",
            "  \"\"\"Entry point for launching an IPython kernel.\n"
          ]
        },
        {
          "data": {
            "text/plain": [
              "[('retraitement', 0.9379735589027405),\n",
              " ('promptement', 0.9336678981781006),\n",
              " ('subitement', 0.929535984992981),\n",
              " ('paiement', 0.9293913841247559),\n",
              " ('étroitement', 0.9289917349815369),\n",
              " ('efficacement', 0.926184356212616),\n",
              " ('reboisement', 0.9252536296844482),\n",
              " ('concrètement', 0.9248472452163696),\n",
              " ('dégagement', 0.9247689843177795),\n",
              " ('maniement', 0.924618124961853)]"
            ]
          },
          "execution_count": 63,
          "metadata": {},
          "output_type": "execute_result"
        }
      ],
      "source": [
        "model_fasttext_corpus2.most_similar(positive=['traitement'], topn=10)"
      ]
    },
    {
      "cell_type": "code",
      "execution_count": null,
      "metadata": {
        "id": "sr-HZ7skHxT8",
        "outputId": "34ad99ed-583a-4e6a-cecc-e6e8c9c38c8b"
      },
      "outputs": [
        {
          "name": "stderr",
          "output_type": "stream",
          "text": [
            "/Users/smail/anaconda3/lib/python3.7/site-packages/ipykernel_launcher.py:1: DeprecationWarning: Call to deprecated `most_similar` (Method will be removed in 4.0.0, use self.wv.most_similar() instead).\n",
            "  \"\"\"Entry point for launching an IPython kernel.\n"
          ]
        },
        {
          "data": {
            "text/plain": [
              "[('retraitement', 0.9440169334411621),\n",
              " ('fondement', 0.9360752105712891),\n",
              " ('maniement', 0.9355830550193787),\n",
              " ('enlisement', 0.9326823949813843),\n",
              " ('dépècement', 0.9324735999107361),\n",
              " ('dédommagement', 0.9322512745857239),\n",
              " ('efficacement', 0.9321631193161011),\n",
              " ('rétrécissement', 0.9318652153015137),\n",
              " ('paiement', 0.9316814541816711),\n",
              " ('subitement', 0.9304092526435852)]"
            ]
          },
          "execution_count": 32,
          "metadata": {},
          "output_type": "execute_result"
        }
      ],
      "source": [
        "model_fasttext.most_similar(positive=['traitement'], topn=10)"
      ]
    },
    {
      "cell_type": "markdown",
      "metadata": {
        "id": "asQHKiMMHxT8"
      },
      "source": [
        "# Discuss  the results :"
      ]
    },
    {
      "cell_type": "raw",
      "metadata": {
        "id": "u4I3j8HkHxT8"
      },
      "source": [
        "The Fasttext gave the best results, when looking at word like \"Traitement\", \"solution\" and \"patient\" it gave the best similar words (\"traitement\" , \" dissolution \" , and \" patiente\" ). Wharease Word2vec using Cbow and skipgram gave words that tend to be close in context, for instance for the word \"patient \" returns \"ce\", \"des\" , \"un\" which are just determinants, this is because Word2vec learns word embeddings from training data by incorporating surroundings word ( context ) which"
      ]
    }
  ],
  "metadata": {
    "kernelspec": {
      "display_name": "Python 3",
      "language": "python",
      "name": "python3"
    },
    "language_info": {
      "codemirror_mode": {
        "name": "ipython",
        "version": 3
      },
      "file_extension": ".py",
      "mimetype": "text/x-python",
      "name": "python",
      "nbconvert_exporter": "python",
      "pygments_lexer": "ipython3",
      "version": "3.7.3"
    },
    "colab": {
      "provenance": []
    }
  },
  "nbformat": 4,
  "nbformat_minor": 0
}